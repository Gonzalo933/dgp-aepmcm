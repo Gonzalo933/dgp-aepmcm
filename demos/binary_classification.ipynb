{
 "cells": [
  {
   "cell_type": "code",
   "execution_count": 1,
   "metadata": {},
   "outputs": [],
   "source": [
    "%matplotlib notebook\n",
    "import numpy as np\n",
    "import matplotlib.pyplot as plt\n",
    "from scipy.cluster.vq import kmeans2\n",
    "from dgp_aepmcm.gp_network import DGPNetwork\n",
    "from sklearn.datasets import load_breast_cancer\n",
    "from sklearn.model_selection import train_test_split\n",
    "from sklearn.metrics import accuracy_score, recall_score\n",
    "from sklearn.metrics import roc_auc_score\n",
    "np.random.seed(5)\n",
    "\n"
   ]
  },
  {
   "cell_type": "code",
   "execution_count": 2,
   "metadata": {},
   "outputs": [],
   "source": [
    "data = load_breast_cancer()\n",
    "x = data['data']\n",
    "y = data['target'][:, None].copy()\n",
    "y[y < 0.5] = -1 # In case labels are 0 or 1 instead of -1 and 1\n",
    "x_train, x_test, y_train, y_test = train_test_split(x, y, test_size=0.33, random_state=5)\n",
    "\n"
   ]
  },
  {
   "cell_type": "code",
   "execution_count": 3,
   "metadata": {},
   "outputs": [],
   "source": [
    "# DGP model variables\n",
    "# Number of inducing points\n",
    "M = 50\n",
    "# Dimension of the problem\n",
    "D = x_train.shape[-1]\n",
    "# Maximun of epochs for training\n",
    "max_epochs = 1000\n",
    "learning_rate = 0.01\n",
    "minibatch_size = 100\n",
    "n_samples_each_point = 10\n",
    "n_samples = 20\n",
    "# Inducing points locations\n",
    "Z = kmeans2(x_train, M, minit='points')[0]\n",
    "\n"
   ]
  },
  {
   "cell_type": "code",
   "execution_count": 6,
   "metadata": {},
   "outputs": [
    {
     "name": "stdout",
     "output_type": "stream",
     "text": [
      "WARNING:tensorflow:From /home/gonzalo/.local/lib/python3.7/site-packages/tensorflow/python/ops/math_ops.py:3066: to_int32 (from tensorflow.python.ops.math_ops) is deprecated and will be removed in a future version.\n",
      "Instructions for updating:\n",
      "Use tf.cast instead.\n"
     ]
    }
   ],
   "source": [
    "# Instantiate and train DGP-AEPMCM. with L=3 and 3 GP nodes for the first two layers\n",
    "model_aepmcm = DGPNetwork(\n",
    "    x_train,\n",
    "    y_train,\n",
    "    inducing_points=Z,\n",
    "    show_debug_info=False)\n",
    "\n",
    "model_aepmcm.add_input_layer()\n",
    "# This method always assume a mean function for the prior p(u) = N(u| m(x), Kzz)\n",
    "# with m(x) = X W\n",
    "# For this example we disable the mean function for the prior so we set W to 0.\n",
    "model_aepmcm.add_gp_layer(M, 3, W=np.zeros((D, 3)))\n",
    "model_aepmcm.add_noise_layer()\n",
    "model_aepmcm.add_gp_layer(M, 3, W=np.zeros((3, 3)))\n",
    "model_aepmcm.add_noise_layer()\n",
    "model_aepmcm.add_gp_layer(M, 1, W=np.zeros((3, 1)))\n",
    "model_aepmcm.add_noise_layer()\n",
    "model_aepmcm.add_output_layer_binary_classification(use_norm_cdf=True)\n",
    "\n",
    "model_aepmcm.train_via_adam(\n",
    "    max_epochs=max_epochs,    \n",
    "    learning_rate=learning_rate)\n",
    "\n"
   ]
  },
  {
   "cell_type": "code",
   "execution_count": 7,
   "metadata": {},
   "outputs": [],
   "source": [
    "labels, probs = model_aepmcm.predict(x_test)\n"
   ]
  },
  {
   "cell_type": "code",
   "execution_count": 10,
   "metadata": {},
   "outputs": [
    {
     "name": "stdout",
     "output_type": "stream",
     "text": [
      "Accuracy: 0.973404255319149\n",
      "Recall: 1.0\n",
      "Auc: 0.9915548931942374\n",
      "Test log-likelihood: -0.09835905581712723\n"
     ]
    }
   ],
   "source": [
    "# Print some metrics\n",
    "acc_dgp = accuracy_score(y_test, labels)\n",
    "recall_dgp = recall_score(y_test, labels)\n",
    "auc_dgp = roc_auc_score(y_test, probs)\n",
    "ll = model_aepmcm.calculate_log_likelihood(x_test, y_test)\n",
    "\n",
    "print(f\"Accuracy: {acc_dgp}\")\n",
    "print(f\"Recall: {recall_dgp}\")\n",
    "print(f\"Auc: {auc_dgp}\")\n",
    "print(f\"Test log-likelihood: {ll}\")"
   ]
  }
 ],
 "metadata": {
  "file_extension": ".py",
  "kernelspec": {
   "display_name": "Python 3",
   "language": "python",
   "name": "python3"
  },
  "language_info": {
   "codemirror_mode": {
    "name": "ipython",
    "version": 3
   },
   "file_extension": ".py",
   "mimetype": "text/x-python",
   "name": "python",
   "nbconvert_exporter": "python",
   "pygments_lexer": "ipython3",
   "version": "3.7.1"
  },
  "mimetype": "text/x-python",
  "name": "python",
  "npconvert_exporter": "python",
  "pygments_lexer": "ipython3",
  "version": 3
 },
 "nbformat": 4,
 "nbformat_minor": 2
}
